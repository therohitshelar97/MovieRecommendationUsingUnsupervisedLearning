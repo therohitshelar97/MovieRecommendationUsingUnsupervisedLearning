import pandas as pd
import numpy as np
from sklearn.cluster import KMeans
from sklearn.decomposition import PCA
from sklearn.preprocessing import StandardScaler
from sklearn.metrics import silhouette_score
from sklearn.neighbors import NearestNeighbors
import matplotlib.pyplot as plt
import seaborn as sns

# Load the dataset (example using MovieLens dataset)
# You can download this from https://grouplens.org/datasets/movielens/
movies = pd.read_csv('movies.csv')
ratings = pd.read_csv('ratings.csv')

# Data Preprocessing
# Create a user-movie rating matrix
movie_ratings = pd.merge(ratings, movies, on='movieId')
user_movie_ratings = movie_ratings.pivot_table(index='userId', columns='title', values='rating')

# Fill missing values with 0 (meaning no rating)
user_movie_ratings = user_movie_ratings.fillna(0)

# Standardize the data
scaler = StandardScaler()
ratings_scaled = scaler.fit_transform(user_movie_ratings)

# Dimensionality Reduction with PCA
pca = PCA(n_components=0.95)  # Keep 95% of variance
ratings_reduced = pca.fit_transform(ratings_scaled)

# Determine optimal number of clusters using Elbow Method and Silhouette Score
wcss = []
silhouette_scores = []
cluster_range = range(2, 11)

for k in cluster_range:
    kmeans = KMeans(n_clusters=k, random_state=42)
    kmeans.fit(ratings_reduced)
    wcss.append(kmeans.inertia_)
    
    if k > 1:  # Silhouette score requires at least 2 clusters
        silhouette_scores.append(silhouette_score(ratings_reduced, kmeans.labels_))

# Plot Elbow Method
plt.figure(figsize=(10, 5))
plt.subplot(1, 2, 1)
plt.plot(cluster_range, wcss, 'bo-')
plt.xlabel('Number of clusters')
plt.ylabel('WCSS')
plt.title('Elbow Method')

# Plot Silhouette Scores
plt.subplot(1, 2, 2)
plt.plot(range(2, 11), silhouette_scores, 'bo-')
plt.xlabel('Number of clusters')
plt.ylabel('Silhouette Score')
plt.title('Silhouette Method')
plt.tight_layout()
plt.show()

# Based on the plots, select optimal k
optimal_k = 5  # Adjust based on your plots

# Final clustering
kmeans = KMeans(n_clusters=optimal_k, random_state=42)
clusters = kmeans.fit_predict(ratings_reduced)

# Add clusters back to the original data
user_movie_ratings['cluster'] = clusters

# Visualize clusters in 2D
pca_2d = PCA(n_components=2)
ratings_2d = pca_2d.fit_transform(ratings_scaled)

plt.figure(figsize=(10, 8))
sns.scatterplot(x=ratings_2d[:, 0], y=ratings_2d[:, 1], hue=clusters, palette='viridis', s=100)
plt.title('Movie Rating Clusters in 2D PCA Space')
plt.xlabel('Principal Component 1')
plt.ylabel('Principal Component 2')
plt.show()

# Recommendation Function using KNN
def recommend_movies(user_id, num_recommendations=5):
    # Get the cluster of the user
    user_cluster = user_movie_ratings.loc[user_id, 'cluster']
    
    # Get all users in the same cluster
    cluster_users = user_movie_ratings[user_movie_ratings['cluster'] == user_cluster].index
    
    # Get ratings from users in the same cluster
    cluster_ratings = user_movie_ratings.loc[cluster_users].drop('cluster', axis=1)
    
    # Get movies the user hasn't rated
    user_rated = user_movie_ratings.loc[user_id].drop('cluster')
    unrated_movies = user_rated[user_rated == 0].index
    
    # Calculate average ratings in the cluster for unrated movies
    avg_ratings = cluster_ratings[unrated_movies].mean(axis=0)
    
    # Get top recommendations
    recommendations = avg_ratings.sort_values(ascending=False).head(num_recommendations)
    
    return recommendations

# Example recommendation for user 1
user_id = 1
print(f"Top 5 movie recommendations for user {user_id}:")
print(recommend_movies(user_id))

# Alternative approach using Nearest Neighbors
def recommend_similar_movies(movie_title, num_recommendations=5):
    # Get the movie's data
    movie_data = user_movie_ratings[movie_title].values.reshape(1, -1)
    
    # Find similar movies using KNN
    knn = NearestNeighbors(n_neighbors=num_recommendations+1, metric='cosine')
    knn.fit(user_movie_ratings.T)  # Transpose to get movie-movie similarity
    
    distances, indices = knn.kneighbors(movie_data)
    
    # Get similar movies
    similar_movies = user_movie_ratings.columns[indices.flatten()[1:]]  # Skip the first one (itself)
    
    return similar_movies

# Example recommendation based on a movie
movie_title = 'Toy Story (1995)'
print(f"\nMovies similar to {movie_title}:")
print(recommend_similar_movies(movie_title))
